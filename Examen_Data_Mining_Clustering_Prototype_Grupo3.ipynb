{
  "nbformat": 4,
  "nbformat_minor": 0,
  "metadata": {
    "colab": {
      "name": "Examen_Data_Mining_Clustering_Prototype_Grupo3",
      "provenance": [],
      "authorship_tag": "ABX9TyMDlAbK1SAhcaB9BfL2xlvc",
      "include_colab_link": true
    },
    "kernelspec": {
      "name": "python3",
      "display_name": "Python 3"
    }
  },
  "cells": [
    {
      "cell_type": "markdown",
      "metadata": {
        "id": "view-in-github",
        "colab_type": "text"
      },
      "source": [
        "<a href=\"https://colab.research.google.com/github/wilianuchasara/Data_Mining/blob/main/Examen_Data_Mining_Clustering_Prototype_Grupo3.ipynb\" target=\"_parent\"><img src=\"https://colab.research.google.com/assets/colab-badge.svg\" alt=\"Open In Colab\"/></a>"
      ]
    },
    {
      "cell_type": "code",
      "metadata": {
        "colab": {
          "base_uri": "https://localhost:8080/"
        },
        "id": "hAscVLY3Fot2",
        "outputId": "d10f9880-97fe-45b2-a69f-1931c836d922"
      },
      "source": [
        "#LIBRERIAS BASICAS\r\n",
        "!pip install kmodes\r\n",
        "from google.colab import files\r\n",
        "import pandas as pd\r\n",
        "from sklearn.cluster import KMeans\r\n",
        "import matplotlib.pyplot as plt\r\n",
        "from sklearn.metrics import silhouette_score\r\n",
        "from kmodes.kprototypes import KPrototypes\r\n",
        "%matplotlib inline"
      ],
      "execution_count": 1,
      "outputs": [
        {
          "output_type": "stream",
          "text": [
            "Collecting kmodes\n",
            "  Downloading https://files.pythonhosted.org/packages/9b/34/fffc601aa4d44b94e945a7cc72f477e09dffa7dce888898f2ffd9f4e343e/kmodes-0.11.0-py2.py3-none-any.whl\n",
            "Requirement already satisfied: numpy>=1.10.4 in /usr/local/lib/python3.6/dist-packages (from kmodes) (1.19.5)\n",
            "Requirement already satisfied: scipy>=0.13.3 in /usr/local/lib/python3.6/dist-packages (from kmodes) (1.4.1)\n",
            "Requirement already satisfied: scikit-learn>=0.22.0 in /usr/local/lib/python3.6/dist-packages (from kmodes) (0.22.2.post1)\n",
            "Requirement already satisfied: joblib>=0.11 in /usr/local/lib/python3.6/dist-packages (from kmodes) (1.0.0)\n",
            "Installing collected packages: kmodes\n",
            "Successfully installed kmodes-0.11.0\n"
          ],
          "name": "stdout"
        }
      ]
    },
    {
      "cell_type": "code",
      "metadata": {
        "id": "L9ORiWDfF1Cx"
      },
      "source": [
        "# FUNCIONES PARA CLUSTERING\r\n",
        "\r\n",
        "def normalize(df):\r\n",
        "    dfb = df.copy()\r\n",
        "    for x in df.columns:\r\n",
        "        dfb[x] = (df[x]-df[x].min())/(df[x].max()-df[x].min())\r\n",
        "    return dfb   \r\n",
        "\r\n",
        "def centroides(a,b):\r\n",
        "    g = {}\r\n",
        "    for i in range(0,b.labels_.max()+1):\r\n",
        "        g1 = pd.DataFrame(data=b.cluster_centroids_[0][i])\r\n",
        "        g2 = pd.DataFrame(data=b.cluster_centroids_[1][i])                 \r\n",
        "        g1 = g1.append(g2)\r\n",
        "        g[i] = g1.copy()\r\n",
        "        g[i].rename(columns={0:i},inplace=True)\r\n",
        "        g[i] = g[i].reset_index()\r\n",
        "        g[i].drop(columns='index',inplace=True)\r\n",
        "\r\n",
        "    gx = g[0]\r\n",
        "    for i in range(1,b.labels_.max()+1):\r\n",
        "        gx = gx.join(g[i])\r\n",
        "\r\n",
        "    centroids = pd.DataFrame(data=gx.T)\r\n",
        "    centroids = centroids.reset_index()\r\n",
        "    centroids.rename(columns={'index':'cluster'},inplace=True)\r\n",
        "\r\n",
        "    cols = a.columns\r\n",
        "    num_cols = list(set(a._get_numeric_data().columns))\r\n",
        "    cat_cols = list(set(cols) - set(num_cols))\r\n",
        "\r\n",
        "    for i in range(0,len(num_cols)):\r\n",
        "        centroids.rename(columns={i:num_cols[i]},inplace=True)\r\n",
        "    j = 0\r\n",
        "    for i in range(len(num_cols),len(cols)):\r\n",
        "        centroids.rename(columns={i:cat_cols[j]},inplace=True)\r\n",
        "        j = j+1\r\n",
        "    return centroids\r\n",
        "    \r\n",
        "def clusteres(a,b): \r\n",
        "    lab = pd.DataFrame(data=b)\r\n",
        "    ax = a.join(lab)\r\n",
        "    ax.rename(columns={0:'cluster'},inplace=True)  \r\n",
        "    return ax\r\n",
        "\r\n",
        "def elbow(X,catx):\r\n",
        "    cost = []\r\n",
        "    K = range(1,7)\r\n",
        "    for k in K:\r\n",
        "        kproto = KPrototypes(n_clusters=k, init='Cao')\r\n",
        "        kproto.fit_predict(X, categorical=catx)\r\n",
        "        cost.append(kproto.cost_)\r\n",
        "\r\n",
        "    plt.plot(K,cost, 'bx-')\r\n",
        "    plt.xlabel('k')\r\n",
        "    plt.ylabel('sum_of_squared_distances')\r\n",
        "    plt.title('elbow method for optimal k')\r\n",
        "    return cost"
      ],
      "execution_count": 3,
      "outputs": []
    },
    {
      "cell_type": "code",
      "metadata": {
        "colab": {
          "base_uri": "https://localhost:8080/",
          "height": 204
        },
        "id": "bqLox9F_F7mq",
        "outputId": "c3976de6-4185-48c2-9dd6-8f07b685dbc9"
      },
      "source": [
        "#DATA LOADING & PREVIEW\r\n",
        "\r\n",
        "url = 'https://raw.githubusercontent.com/wilianuchasara/Data_Mining/main/Grupo%203_Data_Mining.csv'\r\n",
        "df = pd.read_csv(url,sep=',')\r\n",
        "df.head()"
      ],
      "execution_count": 4,
      "outputs": [
        {
          "output_type": "execute_result",
          "data": {
            "text/html": [
              "<div>\n",
              "<style scoped>\n",
              "    .dataframe tbody tr th:only-of-type {\n",
              "        vertical-align: middle;\n",
              "    }\n",
              "\n",
              "    .dataframe tbody tr th {\n",
              "        vertical-align: top;\n",
              "    }\n",
              "\n",
              "    .dataframe thead th {\n",
              "        text-align: right;\n",
              "    }\n",
              "</style>\n",
              "<table border=\"1\" class=\"dataframe\">\n",
              "  <thead>\n",
              "    <tr style=\"text-align: right;\">\n",
              "      <th></th>\n",
              "      <th>CustomerID</th>\n",
              "      <th>Frequency</th>\n",
              "      <th>Monetary_value</th>\n",
              "      <th>Average_price</th>\n",
              "      <th>Recency</th>\n",
              "      <th>Country</th>\n",
              "    </tr>\n",
              "  </thead>\n",
              "  <tbody>\n",
              "    <tr>\n",
              "      <th>0</th>\n",
              "      <td>12347</td>\n",
              "      <td>7</td>\n",
              "      <td>44.048571</td>\n",
              "      <td>1.741523</td>\n",
              "      <td>2</td>\n",
              "      <td>Others</td>\n",
              "    </tr>\n",
              "    <tr>\n",
              "      <th>1</th>\n",
              "      <td>12348</td>\n",
              "      <td>1</td>\n",
              "      <td>201.360000</td>\n",
              "      <td>0.524375</td>\n",
              "      <td>358</td>\n",
              "      <td>Others</td>\n",
              "    </tr>\n",
              "    <tr>\n",
              "      <th>2</th>\n",
              "      <td>12349</td>\n",
              "      <td>1</td>\n",
              "      <td>178.570000</td>\n",
              "      <td>3.799362</td>\n",
              "      <td>18</td>\n",
              "      <td>Others</td>\n",
              "    </tr>\n",
              "    <tr>\n",
              "      <th>3</th>\n",
              "      <td>12350</td>\n",
              "      <td>1</td>\n",
              "      <td>25.200000</td>\n",
              "      <td>2.100000</td>\n",
              "      <td>310</td>\n",
              "      <td>Others</td>\n",
              "    </tr>\n",
              "    <tr>\n",
              "      <th>4</th>\n",
              "      <td>12352</td>\n",
              "      <td>5</td>\n",
              "      <td>37.130000</td>\n",
              "      <td>4.722286</td>\n",
              "      <td>80</td>\n",
              "      <td>Others</td>\n",
              "    </tr>\n",
              "  </tbody>\n",
              "</table>\n",
              "</div>"
            ],
            "text/plain": [
              "   CustomerID  Frequency  Monetary_value  Average_price  Recency Country\n",
              "0       12347          7       44.048571       1.741523        2  Others\n",
              "1       12348          1      201.360000       0.524375      358  Others\n",
              "2       12349          1      178.570000       3.799362       18  Others\n",
              "3       12350          1       25.200000       2.100000      310  Others\n",
              "4       12352          5       37.130000       4.722286       80  Others"
            ]
          },
          "metadata": {
            "tags": []
          },
          "execution_count": 4
        }
      ]
    },
    {
      "cell_type": "code",
      "metadata": {
        "colab": {
          "base_uri": "https://localhost:8080/",
          "height": 204
        },
        "id": "wSVazbh3F_tK",
        "outputId": "07d85205-95f0-4411-ea70-c13d640e0aa3"
      },
      "source": [
        "#DATA PREPARATION (VERY IMPORTANT TO DIFFERENTIATE \"X\" AND \"DF\")\r\n",
        "\r\n",
        "X = df.drop(columns=['CustomerID'])\r\n",
        "X.head()"
      ],
      "execution_count": 5,
      "outputs": [
        {
          "output_type": "execute_result",
          "data": {
            "text/html": [
              "<div>\n",
              "<style scoped>\n",
              "    .dataframe tbody tr th:only-of-type {\n",
              "        vertical-align: middle;\n",
              "    }\n",
              "\n",
              "    .dataframe tbody tr th {\n",
              "        vertical-align: top;\n",
              "    }\n",
              "\n",
              "    .dataframe thead th {\n",
              "        text-align: right;\n",
              "    }\n",
              "</style>\n",
              "<table border=\"1\" class=\"dataframe\">\n",
              "  <thead>\n",
              "    <tr style=\"text-align: right;\">\n",
              "      <th></th>\n",
              "      <th>Frequency</th>\n",
              "      <th>Monetary_value</th>\n",
              "      <th>Average_price</th>\n",
              "      <th>Recency</th>\n",
              "      <th>Country</th>\n",
              "    </tr>\n",
              "  </thead>\n",
              "  <tbody>\n",
              "    <tr>\n",
              "      <th>0</th>\n",
              "      <td>7</td>\n",
              "      <td>44.048571</td>\n",
              "      <td>1.741523</td>\n",
              "      <td>2</td>\n",
              "      <td>Others</td>\n",
              "    </tr>\n",
              "    <tr>\n",
              "      <th>1</th>\n",
              "      <td>1</td>\n",
              "      <td>201.360000</td>\n",
              "      <td>0.524375</td>\n",
              "      <td>358</td>\n",
              "      <td>Others</td>\n",
              "    </tr>\n",
              "    <tr>\n",
              "      <th>2</th>\n",
              "      <td>1</td>\n",
              "      <td>178.570000</td>\n",
              "      <td>3.799362</td>\n",
              "      <td>18</td>\n",
              "      <td>Others</td>\n",
              "    </tr>\n",
              "    <tr>\n",
              "      <th>3</th>\n",
              "      <td>1</td>\n",
              "      <td>25.200000</td>\n",
              "      <td>2.100000</td>\n",
              "      <td>310</td>\n",
              "      <td>Others</td>\n",
              "    </tr>\n",
              "    <tr>\n",
              "      <th>4</th>\n",
              "      <td>5</td>\n",
              "      <td>37.130000</td>\n",
              "      <td>4.722286</td>\n",
              "      <td>80</td>\n",
              "      <td>Others</td>\n",
              "    </tr>\n",
              "  </tbody>\n",
              "</table>\n",
              "</div>"
            ],
            "text/plain": [
              "   Frequency  Monetary_value  Average_price  Recency Country\n",
              "0          7       44.048571       1.741523        2  Others\n",
              "1          1      201.360000       0.524375      358  Others\n",
              "2          1      178.570000       3.799362       18  Others\n",
              "3          1       25.200000       2.100000      310  Others\n",
              "4          5       37.130000       4.722286       80  Others"
            ]
          },
          "metadata": {
            "tags": []
          },
          "execution_count": 5
        }
      ]
    },
    {
      "cell_type": "code",
      "metadata": {
        "id": "9XW6KLc5GEHd"
      },
      "source": [
        "# SEÑALAR COLUMNAS CATEGORICAS (INDICE EMPIEZA EN CERO)\r\n",
        "\r\n",
        "x_cat=[4]"
      ],
      "execution_count": 6,
      "outputs": []
    },
    {
      "cell_type": "code",
      "metadata": {
        "colab": {
          "base_uri": "https://localhost:8080/",
          "height": 312
        },
        "id": "INHdeyZLGKwO",
        "outputId": "a24f5541-618a-499d-f5c8-01e56e67042a"
      },
      "source": [
        "# OPTIMAL NUMBER \"K\" OF CLUSTERS\r\n",
        "\r\n",
        "print(elbow(X,x_cat))"
      ],
      "execution_count": 7,
      "outputs": [
        {
          "output_type": "stream",
          "text": [
            "[1585335415.3231475, 70799428.27464013, 57881460.00895412, 38365126.46451609, 21721172.137521885, 18157479.01234575]\n"
          ],
          "name": "stdout"
        },
        {
          "output_type": "display_data",
          "data": {
            "image/png": "[encoded data removed]",
            "text/plain": [
              "<Figure size 432x288 with 1 Axes>"
            ]
          },
          "metadata": {
            "tags": [],
            "needs_background": "light"
          }
        }
      ]
    },
    {
      "cell_type": "code",
      "metadata": {
        "id": "2szT5RB4GtL9"
      },
      "source": [
        "# ALGORITHM FIT\r\n",
        "\r\n",
        "kproto = KPrototypes(n_clusters=2, init='Cao').fit(X, categorical=x_cat)"
      ],
      "execution_count": 8,
      "outputs": []
    },
    {
      "cell_type": "code",
      "metadata": {
        "colab": {
          "base_uri": "https://localhost:8080/"
        },
        "id": "Frcxf-sZG3MX",
        "outputId": "0c034fb8-8605-490b-9344-b1840d5020bc"
      },
      "source": [
        "# CLUSTER RESULTS\r\n",
        "\r\n",
        "print('Asignacion de clusteres segun cada observacion')\r\n",
        "print(clusteres(df,kproto.labels_).head())"
      ],
      "execution_count": 9,
      "outputs": [
        {
          "output_type": "stream",
          "text": [
            "Asignacion de clusteres segun cada observacion\n",
            "   CustomerID  Frequency  Monetary_value  ...  Recency  Country cluster\n",
            "0       12347          7       44.048571  ...        2   Others       1\n",
            "1       12348          1      201.360000  ...      358   Others       1\n",
            "2       12349          1      178.570000  ...       18   Others       1\n",
            "3       12350          1       25.200000  ...      310   Others       1\n",
            "4       12352          5       37.130000  ...       80   Others       1\n",
            "\n",
            "[5 rows x 7 columns]\n"
          ],
          "name": "stdout"
        }
      ]
    },
    {
      "cell_type": "code",
      "metadata": {
        "colab": {
          "base_uri": "https://localhost:8080/",
          "height": 17
        },
        "id": "jXLDQVvGG5vt",
        "outputId": "67bbf151-bb23-4d7a-93f3-b4ed1dcdd289"
      },
      "source": [
        "# EXPORT RESULTS\r\n",
        "#centroides(X,kproto).to_csv('centroides.csv') \r\n",
        "#files.download('centroides.csv')\r\n",
        "\r\n",
        "clusteres(df,kproto.labels_).to_csv('resultados.csv') \r\n",
        "files.download('resultados.csv')"
      ],
      "execution_count": 10,
      "outputs": [
        {
          "output_type": "display_data",
          "data": {
            "application/javascript": [
              "\n",
              "    async function download(id, filename, size) {\n",
              "      if (!google.colab.kernel.accessAllowed) {\n",
              "        return;\n",
              "      }\n",
              "      const div = document.createElement('div');\n",
              "      const label = document.createElement('label');\n",
              "      label.textContent = `Downloading \"${filename}\": `;\n",
              "      div.appendChild(label);\n",
              "      const progress = document.createElement('progress');\n",
              "      progress.max = size;\n",
              "      div.appendChild(progress);\n",
              "      document.body.appendChild(div);\n",
              "\n",
              "      const buffers = [];\n",
              "      let downloaded = 0;\n",
              "\n",
              "      const channel = await google.colab.kernel.comms.open(id);\n",
              "      // Send a message to notify the kernel that we're ready.\n",
              "      channel.send({})\n",
              "\n",
              "      for await (const message of channel.messages) {\n",
              "        // Send a message to notify the kernel that we're ready.\n",
              "        channel.send({})\n",
              "        if (message.buffers) {\n",
              "          for (const buffer of message.buffers) {\n",
              "            buffers.push(buffer);\n",
              "            downloaded += buffer.byteLength;\n",
              "            progress.value = downloaded;\n",
              "          }\n",
              "        }\n",
              "      }\n",
              "      const blob = new Blob(buffers, {type: 'application/binary'});\n",
              "      const a = document.createElement('a');\n",
              "      a.href = window.URL.createObjectURL(blob);\n",
              "      a.download = filename;\n",
              "      div.appendChild(a);\n",
              "      a.click();\n",
              "      div.remove();\n",
              "    }\n",
              "  "
            ],
            "text/plain": [
              "<IPython.core.display.Javascript object>"
            ]
          },
          "metadata": {
            "tags": []
          }
        },
        {
          "output_type": "display_data",
          "data": {
            "application/javascript": [
              "download(\"download_4de04f1d-434d-474f-948b-1c0de21bfc23\", \"resultados.csv\", 194214)"
            ],
            "text/plain": [
              "<IPython.core.display.Javascript object>"
            ]
          },
          "metadata": {
            "tags": []
          }
        }
      ]
    }
  ]
}