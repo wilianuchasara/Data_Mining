{
  "nbformat": 4,
  "nbformat_minor": 0,
  "metadata": {
    "colab": {
      "name": "Grupo 3 - MEG01 - Caso Inversiones veterinarias",
      "provenance": [],
      "authorship_tag": "ABX9TyPpeQQCsAKQO5LMcDTvEciH",
      "include_colab_link": true
    },
    "kernelspec": {
      "name": "python3",
      "display_name": "Python 3"
    },
    "language_info": {
      "name": "python"
    }
  },
  "cells": [
    {
      "cell_type": "markdown",
      "metadata": {
        "id": "view-in-github",
        "colab_type": "text"
      },
      "source": [
        "<a href=\"https://colab.research.google.com/github/wilianuchasara/Data_Mining/blob/main/Grupo_3_MEG01_Caso_Inversiones_veterinarias.ipynb\" target=\"_parent\"><img src=\"https://colab.research.google.com/assets/colab-badge.svg\" alt=\"Open In Colab\"/></a>"
      ]
    },
    {
      "cell_type": "code",
      "metadata": {
        "colab": {
          "base_uri": "https://localhost:8080/"
        },
        "id": "KA394dbxV5jY",
        "outputId": "bc55dfa3-4065-47de-d5dc-3f0c96df5baa"
      },
      "source": [
        "# LIBRERIAS BASE\n",
        "\n",
        "from google.colab import files\n",
        "import pandas as pd\n",
        "import numpy as np\n",
        "import statsmodels.api as sm\n",
        "from statsmodels.stats.outliers_influence import variance_inflation_factor  "
      ],
      "execution_count": 1,
      "outputs": [
        {
          "output_type": "stream",
          "text": [
            "/usr/local/lib/python3.7/dist-packages/statsmodels/tools/_testing.py:19: FutureWarning: pandas.util.testing is deprecated. Use the functions in the public API at pandas.testing instead.\n",
            "  import pandas.util.testing as tm\n"
          ],
          "name": "stderr"
        }
      ]
    },
    {
      "cell_type": "code",
      "metadata": {
        "id": "9GJN5lW1WPYj"
      },
      "source": [
        "# FUNCIONES\n",
        "\n",
        "def calculate_vif_(X):\n",
        "    variables = list(range(X.shape[1]))\n",
        "    vif = [variance_inflation_factor(X.iloc[:, variables].values, ix)\n",
        "               for ix in range(X.iloc[:, variables].shape[1])]\n",
        "    print(X.columns[variables])\n",
        "    return vif"
      ],
      "execution_count": 2,
      "outputs": []
    },
    {
      "cell_type": "code",
      "metadata": {
        "colab": {
          "base_uri": "https://localhost:8080/",
          "height": 204
        },
        "id": "NsOwCVjoWVGI",
        "outputId": "f85cad79-ace2-4be9-b4bd-f1d6b55263c9"
      },
      "source": [
        "#DATA LOADING & PREVIEW\n",
        "\n",
        "url = 'https://raw.githubusercontent.com/wilianuchasara/Trabajo-grupal-final/main/dataset_invetsaoficial4.csv'\n",
        "df = pd.read_csv(url,sep=',')\n",
        "df.head()"
      ],
      "execution_count": 4,
      "outputs": [
        {
          "output_type": "execute_result",
          "data": {
            "text/html": [
              "<div>\n",
              "<style scoped>\n",
              "    .dataframe tbody tr th:only-of-type {\n",
              "        vertical-align: middle;\n",
              "    }\n",
              "\n",
              "    .dataframe tbody tr th {\n",
              "        vertical-align: top;\n",
              "    }\n",
              "\n",
              "    .dataframe thead th {\n",
              "        text-align: right;\n",
              "    }\n",
              "</style>\n",
              "<table border=\"1\" class=\"dataframe\">\n",
              "  <thead>\n",
              "    <tr style=\"text-align: right;\">\n",
              "      <th></th>\n",
              "      <th>Nombre_Articulo</th>\n",
              "      <th>Temperatura</th>\n",
              "      <th>Peso_Bruto</th>\n",
              "      <th>Volumen</th>\n",
              "      <th>Cantidad</th>\n",
              "      <th>Precio_unitario</th>\n",
              "      <th>Precio_descontado</th>\n",
              "      <th>Total_Linea_Soles</th>\n",
              "    </tr>\n",
              "  </thead>\n",
              "  <tbody>\n",
              "    <tr>\n",
              "      <th>0</th>\n",
              "      <td>PD CANINE K.D 3.3 LB .1.5 KG.</td>\n",
              "      <td>Hasta 30 grados</td>\n",
              "      <td>1.54</td>\n",
              "      <td>0.005940</td>\n",
              "      <td>1</td>\n",
              "      <td>48.51</td>\n",
              "      <td>38.81</td>\n",
              "      <td>38.81</td>\n",
              "    </tr>\n",
              "    <tr>\n",
              "      <th>1</th>\n",
              "      <td>PD CANINE U.D 3.3 LB .1.5 KG.</td>\n",
              "      <td>Hasta 30 grados</td>\n",
              "      <td>1.54</td>\n",
              "      <td>0.005950</td>\n",
              "      <td>1</td>\n",
              "      <td>45.34</td>\n",
              "      <td>36.27</td>\n",
              "      <td>36.27</td>\n",
              "    </tr>\n",
              "    <tr>\n",
              "      <th>2</th>\n",
              "      <td>SD CANINE ADULT L.R SMALL . TOY 4.5 LB .2 K.</td>\n",
              "      <td>Hasta 30 grados</td>\n",
              "      <td>2.04</td>\n",
              "      <td>0.007700</td>\n",
              "      <td>2</td>\n",
              "      <td>54.67</td>\n",
              "      <td>43.74</td>\n",
              "      <td>87.47</td>\n",
              "    </tr>\n",
              "    <tr>\n",
              "      <th>3</th>\n",
              "      <td>SD CANINE ADULT L.R SMALL . TOY 15.5 LB .7 K.</td>\n",
              "      <td>Hasta 30 grados</td>\n",
              "      <td>7.03</td>\n",
              "      <td>0.012992</td>\n",
              "      <td>1</td>\n",
              "      <td>153.20</td>\n",
              "      <td>122.56</td>\n",
              "      <td>122.56</td>\n",
              "    </tr>\n",
              "    <tr>\n",
              "      <th>4</th>\n",
              "      <td>PD CANINE C.D MULTICARE 8.5 LB .3.9 K.</td>\n",
              "      <td>Hasta 30 grados</td>\n",
              "      <td>3.85</td>\n",
              "      <td>0.017000</td>\n",
              "      <td>1</td>\n",
              "      <td>119.81</td>\n",
              "      <td>95.85</td>\n",
              "      <td>95.85</td>\n",
              "    </tr>\n",
              "  </tbody>\n",
              "</table>\n",
              "</div>"
            ],
            "text/plain": [
              "                                 Nombre_Articulo  ... Total_Linea_Soles\n",
              "0                  PD CANINE K.D 3.3 LB .1.5 KG.  ...             38.81\n",
              "1                  PD CANINE U.D 3.3 LB .1.5 KG.  ...             36.27\n",
              "2   SD CANINE ADULT L.R SMALL . TOY 4.5 LB .2 K.  ...             87.47\n",
              "3  SD CANINE ADULT L.R SMALL . TOY 15.5 LB .7 K.  ...            122.56\n",
              "4         PD CANINE C.D MULTICARE 8.5 LB .3.9 K.  ...             95.85\n",
              "\n",
              "[5 rows x 8 columns]"
            ]
          },
          "metadata": {
            "tags": []
          },
          "execution_count": 4
        }
      ]
    },
    {
      "cell_type": "code",
      "metadata": {
        "colab": {
          "base_uri": "https://localhost:8080/",
          "height": 221
        },
        "id": "C_fCRKmXWhhZ",
        "outputId": "2529448d-d597-41e3-d9bb-2fc274b1ce06"
      },
      "source": [
        "#DATA PREPARATION (VERY IMPORTANT TO DIFFERENTIATE \"X\" AND \"DF\")\n",
        "\n",
        "X = df.drop(columns='Nombre_Articulo')  # PRIMERO ELIMINAR VARIABLES QUE NO VAN A IR EN EL ALGORITMO\n",
        "X = pd.get_dummies(X)  # ACA SE CREAN DUMMIES (EN CASO HAYA ALGUNA VARIABLE CATEGORICA, SI NO HAY NO CREARA NADA)\n",
        "X.head()"
      ],
      "execution_count": 5,
      "outputs": [
        {
          "output_type": "execute_result",
          "data": {
            "text/html": [
              "<div>\n",
              "<style scoped>\n",
              "    .dataframe tbody tr th:only-of-type {\n",
              "        vertical-align: middle;\n",
              "    }\n",
              "\n",
              "    .dataframe tbody tr th {\n",
              "        vertical-align: top;\n",
              "    }\n",
              "\n",
              "    .dataframe thead th {\n",
              "        text-align: right;\n",
              "    }\n",
              "</style>\n",
              "<table border=\"1\" class=\"dataframe\">\n",
              "  <thead>\n",
              "    <tr style=\"text-align: right;\">\n",
              "      <th></th>\n",
              "      <th>Peso_Bruto</th>\n",
              "      <th>Volumen</th>\n",
              "      <th>Cantidad</th>\n",
              "      <th>Precio_unitario</th>\n",
              "      <th>Precio_descontado</th>\n",
              "      <th>Total_Linea_Soles</th>\n",
              "      <th>Temperatura_De 2 a 8 grados</th>\n",
              "      <th>Temperatura_Hasta 30 grados</th>\n",
              "    </tr>\n",
              "  </thead>\n",
              "  <tbody>\n",
              "    <tr>\n",
              "      <th>0</th>\n",
              "      <td>1.54</td>\n",
              "      <td>0.005940</td>\n",
              "      <td>1</td>\n",
              "      <td>48.51</td>\n",
              "      <td>38.81</td>\n",
              "      <td>38.81</td>\n",
              "      <td>0</td>\n",
              "      <td>1</td>\n",
              "    </tr>\n",
              "    <tr>\n",
              "      <th>1</th>\n",
              "      <td>1.54</td>\n",
              "      <td>0.005950</td>\n",
              "      <td>1</td>\n",
              "      <td>45.34</td>\n",
              "      <td>36.27</td>\n",
              "      <td>36.27</td>\n",
              "      <td>0</td>\n",
              "      <td>1</td>\n",
              "    </tr>\n",
              "    <tr>\n",
              "      <th>2</th>\n",
              "      <td>2.04</td>\n",
              "      <td>0.007700</td>\n",
              "      <td>2</td>\n",
              "      <td>54.67</td>\n",
              "      <td>43.74</td>\n",
              "      <td>87.47</td>\n",
              "      <td>0</td>\n",
              "      <td>1</td>\n",
              "    </tr>\n",
              "    <tr>\n",
              "      <th>3</th>\n",
              "      <td>7.03</td>\n",
              "      <td>0.012992</td>\n",
              "      <td>1</td>\n",
              "      <td>153.20</td>\n",
              "      <td>122.56</td>\n",
              "      <td>122.56</td>\n",
              "      <td>0</td>\n",
              "      <td>1</td>\n",
              "    </tr>\n",
              "    <tr>\n",
              "      <th>4</th>\n",
              "      <td>3.85</td>\n",
              "      <td>0.017000</td>\n",
              "      <td>1</td>\n",
              "      <td>119.81</td>\n",
              "      <td>95.85</td>\n",
              "      <td>95.85</td>\n",
              "      <td>0</td>\n",
              "      <td>1</td>\n",
              "    </tr>\n",
              "  </tbody>\n",
              "</table>\n",
              "</div>"
            ],
            "text/plain": [
              "   Peso_Bruto  ...  Temperatura_Hasta 30 grados\n",
              "0        1.54  ...                            1\n",
              "1        1.54  ...                            1\n",
              "2        2.04  ...                            1\n",
              "3        7.03  ...                            1\n",
              "4        3.85  ...                            1\n",
              "\n",
              "[5 rows x 8 columns]"
            ]
          },
          "metadata": {
            "tags": []
          },
          "execution_count": 5
        }
      ]
    },
    {
      "cell_type": "code",
      "metadata": {
        "colab": {
          "base_uri": "https://localhost:8080/",
          "height": 204
        },
        "id": "87h9SxyDWrwx",
        "outputId": "10fe4f7f-0781-4165-c516-4b992c316e37"
      },
      "source": [
        "X = X.drop(columns=['Temperatura_De 2 a 8 grados','Precio_descontado','Peso_Bruto'])   # EN CASO ESTEMOS CREANDO DUMMIES PARA CATEGORICAS SIEMPRE ELIMINAR 1 DE LAS N OPCIONES QUE SE CREAN (SOLO QUEDARIAN N-1 FLAGS POR CADA CATEGORICA)\n",
        "X.head()"
      ],
      "execution_count": 6,
      "outputs": [
        {
          "output_type": "execute_result",
          "data": {
            "text/html": [
              "<div>\n",
              "<style scoped>\n",
              "    .dataframe tbody tr th:only-of-type {\n",
              "        vertical-align: middle;\n",
              "    }\n",
              "\n",
              "    .dataframe tbody tr th {\n",
              "        vertical-align: top;\n",
              "    }\n",
              "\n",
              "    .dataframe thead th {\n",
              "        text-align: right;\n",
              "    }\n",
              "</style>\n",
              "<table border=\"1\" class=\"dataframe\">\n",
              "  <thead>\n",
              "    <tr style=\"text-align: right;\">\n",
              "      <th></th>\n",
              "      <th>Volumen</th>\n",
              "      <th>Cantidad</th>\n",
              "      <th>Precio_unitario</th>\n",
              "      <th>Total_Linea_Soles</th>\n",
              "      <th>Temperatura_Hasta 30 grados</th>\n",
              "    </tr>\n",
              "  </thead>\n",
              "  <tbody>\n",
              "    <tr>\n",
              "      <th>0</th>\n",
              "      <td>0.005940</td>\n",
              "      <td>1</td>\n",
              "      <td>48.51</td>\n",
              "      <td>38.81</td>\n",
              "      <td>1</td>\n",
              "    </tr>\n",
              "    <tr>\n",
              "      <th>1</th>\n",
              "      <td>0.005950</td>\n",
              "      <td>1</td>\n",
              "      <td>45.34</td>\n",
              "      <td>36.27</td>\n",
              "      <td>1</td>\n",
              "    </tr>\n",
              "    <tr>\n",
              "      <th>2</th>\n",
              "      <td>0.007700</td>\n",
              "      <td>2</td>\n",
              "      <td>54.67</td>\n",
              "      <td>87.47</td>\n",
              "      <td>1</td>\n",
              "    </tr>\n",
              "    <tr>\n",
              "      <th>3</th>\n",
              "      <td>0.012992</td>\n",
              "      <td>1</td>\n",
              "      <td>153.20</td>\n",
              "      <td>122.56</td>\n",
              "      <td>1</td>\n",
              "    </tr>\n",
              "    <tr>\n",
              "      <th>4</th>\n",
              "      <td>0.017000</td>\n",
              "      <td>1</td>\n",
              "      <td>119.81</td>\n",
              "      <td>95.85</td>\n",
              "      <td>1</td>\n",
              "    </tr>\n",
              "  </tbody>\n",
              "</table>\n",
              "</div>"
            ],
            "text/plain": [
              "    Volumen  Cantidad  ...  Total_Linea_Soles  Temperatura_Hasta 30 grados\n",
              "0  0.005940         1  ...              38.81                            1\n",
              "1  0.005950         1  ...              36.27                            1\n",
              "2  0.007700         2  ...              87.47                            1\n",
              "3  0.012992         1  ...             122.56                            1\n",
              "4  0.017000         1  ...              95.85                            1\n",
              "\n",
              "[5 rows x 5 columns]"
            ]
          },
          "metadata": {
            "tags": []
          },
          "execution_count": 6
        }
      ]
    },
    {
      "cell_type": "code",
      "metadata": {
        "colab": {
          "base_uri": "https://localhost:8080/"
        },
        "id": "6zQrUV_HW-f7",
        "outputId": "90170fa8-bd0f-4c17-ac9f-aa3827f2f23c"
      },
      "source": [
        "# ALGORITHM FIT\n",
        "\n",
        "dep = 'Total_Linea_Soles'  # ACA SOLO MODIFICAR LA VARIABLE DEPENDIENTE \"dep\", DEJAR TODO LO DEMAS IGUAL\n",
        "\n",
        "mod = sm.OLS(X[dep], sm.add_constant(X.drop(columns=[dep])))    \n",
        "res = mod.fit()\n",
        "print(res.summary())\n",
        "print('')\n",
        "print('')\n",
        "print('')\n",
        "print('VIF RESULTS')\n",
        "print('')\n",
        "calculate_vif_(X.drop(columns=[dep]))"
      ],
      "execution_count": 7,
      "outputs": [
        {
          "output_type": "stream",
          "text": [
            "                            OLS Regression Results                            \n",
            "==============================================================================\n",
            "Dep. Variable:      Total_Linea_Soles   R-squared:                       0.743\n",
            "Model:                            OLS   Adj. R-squared:                  0.738\n",
            "Method:                 Least Squares   F-statistic:                     181.0\n",
            "Date:                Tue, 23 Mar 2021   Prob (F-statistic):           1.03e-72\n",
            "Time:                        18:33:35   Log-Likelihood:                -1876.0\n",
            "No. Observations:                 256   AIC:                             3762.\n",
            "Df Residuals:                     251   BIC:                             3780.\n",
            "Df Model:                           4                                         \n",
            "Covariance Type:            nonrobust                                         \n",
            "===============================================================================================\n",
            "                                  coef    std err          t      P>|t|      [0.025      0.975]\n",
            "-----------------------------------------------------------------------------------------------\n",
            "const                       -1089.2486    165.363     -6.587      0.000   -1414.924    -763.573\n",
            "Volumen                     -8237.6835   3163.413     -2.604      0.010   -1.45e+04   -2007.467\n",
            "Cantidad                       47.5889      1.848     25.758      0.000      43.950      51.228\n",
            "Precio_unitario                 4.4546      0.388     11.473      0.000       3.690       5.219\n",
            "Temperatura_Hasta 30 grados   829.0695    152.161      5.449      0.000     529.394    1128.745\n",
            "==============================================================================\n",
            "Omnibus:                       72.400   Durbin-Watson:                   1.932\n",
            "Prob(Omnibus):                  0.000   Jarque-Bera (JB):              873.511\n",
            "Skew:                           0.712   Prob(JB):                    2.09e-190\n",
            "Kurtosis:                      11.937   Cond. No.                     2.21e+04\n",
            "==============================================================================\n",
            "\n",
            "Warnings:\n",
            "[1] Standard Errors assume that the covariance matrix of the errors is correctly specified.\n",
            "[2] The condition number is large, 2.21e+04. This might indicate that there are\n",
            "strong multicollinearity or other numerical problems.\n",
            "\n",
            "\n",
            "\n",
            "VIF RESULTS\n",
            "\n",
            "Index(['Volumen', 'Cantidad', 'Precio_unitario',\n",
            "       'Temperatura_Hasta 30 grados'],\n",
            "      dtype='object')\n"
          ],
          "name": "stdout"
        },
        {
          "output_type": "execute_result",
          "data": {
            "text/plain": [
              "[3.8940067824277595,\n",
              " 1.2506988072765022,\n",
              " 2.8628309789526467,\n",
              " 3.4813421631181365]"
            ]
          },
          "metadata": {
            "tags": []
          },
          "execution_count": 7
        }
      ]
    }
  ]
}